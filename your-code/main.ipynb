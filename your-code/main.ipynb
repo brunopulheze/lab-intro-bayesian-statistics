{
 "cells": [
  {
   "cell_type": "markdown",
   "metadata": {},
   "source": [
    "# Intro to Bayesian Statistics Lab\n",
    "\n",
    "Complete the following set of exercises to solidify your knowledge of Bayesian statistics and Bayesian data analysis."
   ]
  },
  {
   "cell_type": "code",
   "execution_count": 1,
   "metadata": {},
   "outputs": [],
   "source": [
    "import pandas as pd\n",
    "import numpy as np\n",
    "import matplotlib.pyplot as plt"
   ]
  },
  {
   "cell_type": "markdown",
   "metadata": {},
   "source": [
    "## 1. Cookie Problem\n",
    "\n",
    "Suppose we have two bowls of cookies. Bowl 1 contains 30 vanilla cookies and 10 chocolate cookies. Bowl 2 contains 20 of each. You randomly pick one cookie out of one of the bowls, and it is vanilla. Use Bayes Theorem to calculate the probability that the vanilla cookie you picked came from Bowl 1?"
   ]
  },
  {
   "cell_type": "code",
   "execution_count": 2,
   "metadata": {},
   "outputs": [
    {
     "name": "stdout",
     "output_type": "stream",
     "text": [
      "Probability that the vanilla cookie came from Bowl 1: 0.60\n"
     ]
    }
   ],
   "source": [
    "# Prior probabilities\n",
    "p_bowl1 = 0.5\n",
    "p_bowl2 = 0.5\n",
    "\n",
    "# Likelihoods\n",
    "p_vanilla_given_bowl1 = 30 / 40\n",
    "p_vanilla_given_bowl2 = 20 / 40\n",
    "\n",
    "# Total probability of picking a vanilla cookie\n",
    "p_vanilla = p_vanilla_given_bowl1 * p_bowl1 + p_vanilla_given_bowl2 * p_bowl2\n",
    "\n",
    "# Posterior probability (Bayes' theorem)\n",
    "p_bowl1_given_vanilla = (p_vanilla_given_bowl1 * p_bowl1) / p_vanilla\n",
    "print(f\"Probability that the vanilla cookie came from Bowl 1: {p_bowl1_given_vanilla:.2f}\")"
   ]
  },
  {
   "cell_type": "markdown",
   "metadata": {},
   "source": [
    "What is the probability that it came from Bowl 2?"
   ]
  },
  {
   "cell_type": "code",
   "execution_count": null,
   "metadata": {},
   "outputs": [],
   "source": [
    "# Posterior probability for Bowl 2 (Bayes' theorem)\n",
    "p_bowl2_given_vanilla = (p_vanilla_given_bowl2 * p_bowl2) / p_vanilla\n",
    "print(f\"Probability that the vanilla cookie came from Bowl 2: {p_bowl2_given_vanilla:.2f}\")"
   ]
  },
  {
   "cell_type": "markdown",
   "metadata": {},
   "source": [
    "What if the cookie you had picked was chocolate? What are the probabilities that the chocolate cookie came from Bowl 1 and Bowl 2 respectively?"
   ]
  },
  {
   "cell_type": "code",
   "execution_count": 3,
   "metadata": {},
   "outputs": [
    {
     "name": "stdout",
     "output_type": "stream",
     "text": [
      "Probability that the chocolate cookie came from Bowl 1: 0.33\n",
      "Probability that the chocolate cookie came from Bowl 2: 0.67\n"
     ]
    }
   ],
   "source": [
    "# Likelihoods for chocolate\n",
    "p_chocolate_given_bowl1 = 10 / 40\n",
    "p_chocolate_given_bowl2 = 20 / 40\n",
    "\n",
    "# Total probability of picking a chocolate cookie\n",
    "p_chocolate = p_chocolate_given_bowl1 * p_bowl1 + p_chocolate_given_bowl2 * p_bowl2\n",
    "\n",
    "# Posterior probabilities (Bayes' theorem)\n",
    "p_bowl1_given_chocolate = (p_chocolate_given_bowl1 * p_bowl1) / p_chocolate\n",
    "p_bowl2_given_chocolate = (p_chocolate_given_bowl2 * p_bowl2) / p_chocolate\n",
    "\n",
    "print(f\"Probability that the chocolate cookie came from Bowl 1: {p_bowl1_given_chocolate:.2f}\")\n",
    "print(f\"Probability that the chocolate cookie came from Bowl 2: {p_bowl2_given_chocolate:.2f}\")"
   ]
  },
  {
   "cell_type": "markdown",
   "metadata": {},
   "source": [
    "## 2. Candy Problem\n",
    "\n",
    "Suppose you have two bags of candies:\n",
    "\n",
    "- In Bag 1, the mix of colors is:\n",
    "    - Brown - 30%\n",
    "    - Yellow - 20%\n",
    "    - Red - 20%\n",
    "    - Green - 10%\n",
    "    - Orange - 10%\n",
    "    - Tan - 10%\n",
    "    \n",
    "- In Bag 2, the mix of colors is:\n",
    "    - Blue - 24%\n",
    "    - Green - 20%\n",
    "    - Orange - 16%\n",
    "    - Yellow - 14%\n",
    "    - Red - 13%\n",
    "    - Brown - 13%\n",
    "    \n",
    "Not knowing which bag is which, you randomly draw one candy from each bag. One is yellow and one is green. What is the probability that the yellow one came from the Bag 1?\n",
    "\n",
    "*Hint: For the likelihoods, you will need to multiply the probabilities of drawing yellow from one bag and green from the other bag and vice versa.*"
   ]
  },
  {
   "cell_type": "code",
   "execution_count": 4,
   "metadata": {},
   "outputs": [
    {
     "name": "stdout",
     "output_type": "stream",
     "text": [
      "Probability that the yellow candy came from Bag 1: 0.74\n"
     ]
    }
   ],
   "source": [
    "# Prior probabilities\n",
    "p_bag1 = 0.5\n",
    "p_bag2 = 0.5\n",
    "\n",
    "# Probabilities for colors in each bag\n",
    "p_yellow_bag1 = 0.20\n",
    "p_green_bag1 = 0.10\n",
    "\n",
    "p_yellow_bag2 = 0.14\n",
    "p_green_bag2 = 0.20\n",
    "\n",
    "# Likelihoods\n",
    "# Case 1: Yellow from Bag 1, Green from Bag 2\n",
    "likelihood1 = p_yellow_bag1 * p_green_bag2\n",
    "\n",
    "# Case 2: Yellow from Bag 2, Green from Bag 1\n",
    "likelihood2 = p_yellow_bag2 * p_green_bag1\n",
    "\n",
    "# Total probability\n",
    "total = likelihood1 + likelihood2\n",
    "\n",
    "# Posterior: Probability yellow came from Bag 1\n",
    "p_yellow_from_bag1 = likelihood1 / total\n",
    "print(f\"Probability that the yellow candy came from Bag 1: {p_yellow_from_bag1:.2f}\")"
   ]
  },
  {
   "cell_type": "markdown",
   "metadata": {},
   "source": [
    "What is the probability that the yellow candy came from Bag 2?"
   ]
  },
  {
   "cell_type": "code",
   "execution_count": 5,
   "metadata": {},
   "outputs": [
    {
     "name": "stdout",
     "output_type": "stream",
     "text": [
      "Probability that the yellow candy came from Bag 2: 0.26\n"
     ]
    }
   ],
   "source": [
    "# Posterior: Probability yellow came from Bag 2\n",
    "p_yellow_from_bag2 = likelihood2 / total\n",
    "print(f\"Probability that the yellow candy came from Bag 2: {p_yellow_from_bag2:.2f}\")"
   ]
  },
  {
   "cell_type": "markdown",
   "metadata": {},
   "source": [
    "What are the probabilities that the green one came from Bag 1 and Bag 2 respectively?"
   ]
  },
  {
   "cell_type": "code",
   "execution_count": 6,
   "metadata": {},
   "outputs": [
    {
     "name": "stdout",
     "output_type": "stream",
     "text": [
      "Probability that the green candy came from Bag 1: 0.26\n",
      "Probability that the green candy came from Bag 2: 0.74\n"
     ]
    }
   ],
   "source": [
    "# Probability green came from Bag 1\n",
    "p_green_from_bag1 = likelihood2 / total\n",
    "\n",
    "# Probability green came from Bag 2\n",
    "p_green_from_bag2 = likelihood1 / total\n",
    "\n",
    "print(f\"Probability that the green candy came from Bag 1: {p_green_from_bag1:.2f}\")\n",
    "print(f\"Probability that the green candy came from Bag 2: {p_green_from_bag2:.2f}\")"
   ]
  },
  {
   "cell_type": "markdown",
   "metadata": {},
   "source": [
    "## 3. Monty Hall Problem\n",
    "\n",
    "Suppose you are a contestant on the popular game show *Let's Make a Deal*. The host of the show (Monty Hall) presents you with three doors - Door A, Door B, and Door C. He tells you that there is a sports car behind one of them and if you choose the correct one, you win the car!\n",
    "\n",
    "You select Door A, but then Monty makes things a little more interesting. He opens Door B to reveal that there is no sports car behind it and asks you if you would like to stick with your choice of Door A or switch your choice to Door C. Given this new information, what are the probabilities of you winning the car if you stick with Door A versus if you switch to Door C?"
   ]
  },
  {
   "cell_type": "code",
   "execution_count": 7,
   "metadata": {},
   "outputs": [
    {
     "name": "stdout",
     "output_type": "stream",
     "text": [
      "Probability of winning if you stick with Door A: 0.33\n",
      "Probability of winning if you switch to Door C: 0.67\n"
     ]
    }
   ],
   "source": [
    "# Prior probabilities: car is equally likely behind any door\n",
    "p_car_A = 1/3\n",
    "p_car_B = 1/3\n",
    "p_car_C = 1/3\n",
    "\n",
    "# Monty always opens a door without the car (here, Door B)\n",
    "# Likelihoods:\n",
    "# If car is behind A, Monty can open B or C (but he opens B here): probability = 0.5\n",
    "# If car is behind B, Monty cannot open B (contradicts observation): probability = 0\n",
    "# If car is behind C, Monty must open B: probability = 1\n",
    "\n",
    "# Total probability Monty opens B\n",
    "p_monty_opens_B = p_car_A * 0.5 + p_car_B * 0 + p_car_C * 1\n",
    "\n",
    "# Posterior probabilities\n",
    "p_A_given_B = (p_car_A * 0.5) / p_monty_opens_B\n",
    "p_C_given_B = (p_car_C * 1) / p_monty_opens_B\n",
    "\n",
    "print(f\"Probability of winning if you stick with Door A: {p_A_given_B:.2f}\")\n",
    "print(f\"Probability of winning if you switch to Door C: {p_C_given_B:.2f}\")"
   ]
  },
  {
   "cell_type": "markdown",
   "metadata": {},
   "source": [
    "# Bonus: Advanced Bayesian Challenge"
   ]
  },
  {
   "cell_type": "markdown",
   "metadata": {},
   "source": [
    "## 1. Bayesian Analysis \n",
    "\n",
    "Suppose you work for a landscaping company, and they want to advertise their service online. They create an ad and sit back waiting for the money to roll in. On the first day, the ad sends 100 visitors to the site and 14 of them sign up for landscaping services. Create a generative model to come up with the posterior distribution and produce a visualization of what the posterior distribution would look like given the observed data."
   ]
  },
  {
   "cell_type": "code",
   "execution_count": 8,
   "metadata": {},
   "outputs": [
    {
     "data": {
      "image/png": "[encoded data removed]",
      "text/plain": [
       "<Figure size 800x400 with 1 Axes>"
      ]
     },
     "metadata": {},
     "output_type": "display_data"
    }
   ],
   "source": [
    "from scipy.stats import beta\n",
    "import numpy as np\n",
    "\n",
    "# Bayesian analysis for conversion rate\n",
    "# Prior: Beta(1, 1) (uniform prior)\n",
    "# Likelihood: Binomial(100, p), observed 14 successes\n",
    "\n",
    "import matplotlib.pyplot as plt\n",
    "\n",
    "# Observed data\n",
    "n_visitors = 100\n",
    "n_signups = 14\n",
    "\n",
    "# Posterior parameters for Beta distribution\n",
    "alpha_post = 1 + n_signups\n",
    "beta_post = 1 + n_visitors - n_signups\n",
    "\n",
    "# Generate posterior distribution\n",
    "p = np.linspace(0, 1, 1000)\n",
    "posterior = beta.pdf(p, alpha_post, beta_post)\n",
    "\n",
    "# Plot posterior\n",
    "plt.figure(figsize=(8, 4))\n",
    "plt.plot(p, posterior, label=f'Beta({alpha_post}, {beta_post})')\n",
    "plt.title('Posterior Distribution of Conversion Rate')\n",
    "plt.xlabel('Conversion Rate')\n",
    "plt.ylabel('Density')\n",
    "plt.legend()\n",
    "plt.show()"
   ]
  },
  {
   "cell_type": "markdown",
   "metadata": {},
   "source": [
    "Produce a set of descriptive statistics for the posterior distribution."
   ]
  },
  {
   "cell_type": "code",
   "execution_count": 9,
   "metadata": {},
   "outputs": [
    {
     "name": "stdout",
     "output_type": "stream",
     "text": [
      "Mean: 0.1471\n",
      "Variance: 0.001218\n",
      "Skewness: 0.3890\n",
      "Mode: 0.1400\n"
     ]
    }
   ],
   "source": [
    "from scipy.stats import beta\n",
    "\n",
    "# Mean, variance, skewness, and mode for Beta(alpha_post, beta_post)\n",
    "mean = beta.mean(alpha_post, beta_post)\n",
    "variance = beta.var(alpha_post, beta_post)\n",
    "skewness = beta.stats(alpha_post, beta_post, moments='s')\n",
    "mode = (alpha_post - 1) / (alpha_post + beta_post - 2) if alpha_post > 1 and beta_post > 1 else np.nan\n",
    "\n",
    "print(f\"Mean: {mean:.4f}\")\n",
    "print(f\"Variance: {variance:.6f}\")\n",
    "print(f\"Skewness: {skewness:.4f}\")\n",
    "print(f\"Mode: {mode:.4f}\")"
   ]
  },
  {
   "cell_type": "markdown",
   "metadata": {},
   "source": [
    "What is the 90% credible interval range?"
   ]
  },
  {
   "cell_type": "code",
   "execution_count": 10,
   "metadata": {},
   "outputs": [
    {
     "name": "stdout",
     "output_type": "stream",
     "text": [
      "90% credible interval: [0.0938, 0.2082]\n"
     ]
    }
   ],
   "source": [
    "# 90% credible interval for the posterior Beta distribution\n",
    "lower_bound = beta.ppf(0.05, alpha_post, beta_post)\n",
    "upper_bound = beta.ppf(0.95, alpha_post, beta_post)\n",
    "\n",
    "print(f\"90% credible interval: [{lower_bound:.4f}, {upper_bound:.4f}]\")"
   ]
  },
  {
   "cell_type": "markdown",
   "metadata": {},
   "source": [
    "What is the Maximum Likelihood Estimate?"
   ]
  },
  {
   "cell_type": "code",
   "execution_count": 11,
   "metadata": {},
   "outputs": [
    {
     "name": "stdout",
     "output_type": "stream",
     "text": [
      "Maximum Likelihood Estimate: 0.1400\n"
     ]
    }
   ],
   "source": [
    "mle = n_signups / n_visitors\n",
    "print(f\"Maximum Likelihood Estimate: {mle:.4f}\")"
   ]
  }
 ],
 "metadata": {
  "kernelspec": {
   "display_name": ".venv (3.13.3)",
   "language": "python",
   "name": "python3"
  },
  "language_info": {
   "codemirror_mode": {
    "name": "ipython",
    "version": 3
   },
   "file_extension": ".py",
   "mimetype": "text/x-python",
   "name": "python",
   "nbconvert_exporter": "python",
   "pygments_lexer": "ipython3",
   "version": "3.13.3"
  }
 },
 "nbformat": 4,
 "nbformat_minor": 2
}
